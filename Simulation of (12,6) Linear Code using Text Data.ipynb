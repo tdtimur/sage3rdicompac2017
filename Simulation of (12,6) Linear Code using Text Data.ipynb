{
 "cells": [
  {
   "cell_type": "markdown",
   "metadata": {
    "deletable": true,
    "editable": true
   },
   "source": [
    "# Simulation of (12,6) Linear Code using Text Data\n",
    "In the next cell, we will define two matrices, $H$ and $G$, which is the parity check and generator matrix for $C$, respectively. We construct linear code $C$ by `C = codes.LinearCode(generator=G)`"
   ]
  },
  {
   "cell_type": "code",
   "execution_count": 1,
   "metadata": {
    "collapsed": false,
    "deletable": true,
    "editable": true
   },
   "outputs": [
    {
     "data": {
      "text/plain": [
       "[12, 6] linear code over GF(2)"
      ]
     },
     "execution_count": 1,
     "metadata": {},
     "output_type": "execute_result"
    }
   ],
   "source": [
    "H = matrix(GF(2),[[1,1,1,0,0,0,1,0,0,0,0,0],\n",
    "                  [0,1,1,1,0,0,0,1,0,0,0,0],\n",
    "                  [0,0,1,1,1,0,0,0,1,0,0,0],\n",
    "                  [0,0,0,1,1,1,0,0,0,1,0,0],\n",
    "                  [1,0,1,0,1,0,0,0,0,0,1,0],\n",
    "                  [0,1,0,1,0,1,0,0,0,0,0,1]])\n",
    "G = matrix(GF(2),[[1,0,0,0,0,0,1,0,0,0,1,0],\n",
    "                  [0,1,0,0,0,0,1,1,0,0,0,1],\n",
    "                  [0,0,1,0,0,0,1,1,1,0,1,0],\n",
    "                  [0,0,0,1,0,0,0,1,1,1,0,1],\n",
    "                  [0,0,0,0,1,0,0,0,1,1,1,0],\n",
    "                  [0,0,0,0,0,1,0,0,0,1,0,1]])\n",
    "C = codes.LinearCode(generator=G)\n",
    "C"
   ]
  },
  {
   "cell_type": "markdown",
   "metadata": {
    "deletable": true,
    "editable": true
   },
   "source": [
    "In the next cell, we define the list of all strings used in this simulation and provide a code to convert strings to its binary format."
   ]
  },
  {
   "cell_type": "code",
   "execution_count": 2,
   "metadata": {
    "collapsed": true,
    "deletable": true,
    "editable": true
   },
   "outputs": [],
   "source": [
    "strings = ' abcdefghijklmnopqrstuvwxyzABCDEFGHIJKLMNOPQRSTUVWXYZ1234567890.'\n",
    "dict1 = {}\n",
    "for i in xrange(len(strings)):\n",
    "    dict1[str(strings[i])] = '{0:06b}'.format(i)\n",
    "\n",
    "key_dict1 = dict1.keys()\n",
    "val_dict1 = dict1.values()\n",
    "    \n",
    "dict2 = {}\n",
    "for j in xrange(len(strings)):\n",
    "    dict2[str(val_dict1[j])] = key_dict1[j]"
   ]
  },
  {
   "cell_type": "markdown",
   "metadata": {
    "deletable": true,
    "editable": true
   },
   "source": [
    "Binaries we obtained previously must be converted to a valid SageMath's vectors data type. In the next cell we define some helpful functions in transforming string to binaries and vectors. The last function is actually a function that help us process, encode, transmit, and decode our data element-wise. This is where the simulation actually happened."
   ]
  },
  {
   "cell_type": "code",
   "execution_count": 3,
   "metadata": {
    "collapsed": true,
    "deletable": true,
    "editable": true
   },
   "outputs": [],
   "source": [
    "def str2bin(string):\n",
    "    return dict1[string]\n",
    "\n",
    "def bin2vec(binary):\n",
    "    return vector(GF(2),[int(k) for k in binary])\n",
    "\n",
    "def vec2bin(vector):\n",
    "    return ''.join(str(k) for k in vector)\n",
    "\n",
    "def bin2str(biner):\n",
    "    return dict2[biner]\n",
    "\n",
    "def text2bin(t):\n",
    "    return ''.join(str2bin(j) for j in t)\n",
    "\n",
    "def entradec_str(string):\n",
    "    result = ['','','','','']\n",
    "    for s in string: \n",
    "        v = bin2vec(str2bin(s))\n",
    "        ve = C.encode(v, encoder_name=\"GeneratorMatrix\")\n",
    "        ves = vec2bin(ve)\n",
    "        vt = channel.transmit(ve)\n",
    "        vts = vec2bin(vt)\n",
    "        vd = C.decode_to_code(vt, decoder_name=\"Syndrome\")\n",
    "        vds = vec2bin(vd)\n",
    "        vm = C.decode_to_message(vt, decoder_name=\"Syndrome\")\n",
    "        vms = vec2bin(vm)\n",
    "        m = bin2str(vms)\n",
    "        result[0] += ves\n",
    "        result[1] += vts\n",
    "        result[2] += vds\n",
    "        result[3] += vms\n",
    "        result[4] += m\n",
    "    return result"
   ]
  },
  {
   "cell_type": "code",
   "execution_count": 4,
   "metadata": {
    "collapsed": false,
    "deletable": true,
    "editable": true
   },
   "outputs": [
    {
     "name": "stdout",
     "output_type": "stream",
     "text": [
      "This is a dummy text\n",
      "This is a dummy text\n",
      "Txis is qpdummyatext\n",
      "4plbxCkt3aOtgScNq1Oq\n",
      "RjIvIkvd3Gael.GH8tDM\n",
      "GgJb206Fbhh5nTzBBUds\n",
      "uc1trbMWtID9M6db5i1T\n"
     ]
    }
   ],
   "source": [
    "text = \"This is a dummy text\"\n",
    "for i in [0,1,2,3,4,5,6]:\n",
    "    channel = channels.StaticErrorRateChannel(C.ambient_space(),i)\n",
    "    print entradec_str(text)[4]"
   ]
  },
  {
   "cell_type": "code",
   "execution_count": null,
   "metadata": {
    "collapsed": true,
    "deletable": true,
    "editable": true
   },
   "outputs": [],
   "source": []
  }
 ],
 "metadata": {
  "kernelspec": {
   "display_name": "SageMath 8.0",
   "language": "",
   "name": "sagemath"
  },
  "language_info": {
   "codemirror_mode": {
    "name": "ipython",
    "version": 2
   },
   "file_extension": ".py",
   "mimetype": "text/x-python",
   "name": "python",
   "nbconvert_exporter": "python",
   "pygments_lexer": "ipython2",
   "version": "2.7.13"
  }
 },
 "nbformat": 4,
 "nbformat_minor": 2
}
